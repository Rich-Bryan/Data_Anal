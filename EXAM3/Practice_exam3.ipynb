{
 "cells": [
  {
   "cell_type": "code",
   "execution_count": 45,
   "metadata": {},
   "outputs": [],
   "source": [
    "import pandas as pd"
   ]
  },
  {
   "cell_type": "markdown",
   "metadata": {},
   "source": [
    "## Q1 - read CSB and store in a DF"
   ]
  },
  {
   "cell_type": "code",
   "execution_count": 46,
   "metadata": {},
   "outputs": [
    {
     "name": "stdout",
     "output_type": "stream",
     "text": [
      "   Exam_grade  quiz_grade  gender\n",
      "0          90          12    male\n",
      "1         102          21  female\n",
      "2          56          21  female\n",
      "3         102          21    male\n",
      "4          97           3  female\n",
      "    Exam_grade  quiz_grade  gender\n",
      "21          84          25    male\n",
      "22          58          45  female\n",
      "23         102          45    male\n",
      "24          44          47  female\n",
      "25          90          30  female\n"
     ]
    }
   ],
   "source": [
    "filename = \"exam_2.csv\"\n",
    "df = pd.read_csv(filename)\n",
    "\n",
    "print(df.head())\n",
    "print(df.tail())"
   ]
  },
  {
   "cell_type": "markdown",
   "metadata": {},
   "source": [
    "## Q2 - how many Row and Columns"
   ]
  },
  {
   "cell_type": "code",
   "execution_count": 47,
   "metadata": {},
   "outputs": [
    {
     "data": {
      "text/plain": [
       "(26, 3)"
      ]
     },
     "execution_count": 47,
     "metadata": {},
     "output_type": "execute_result"
    }
   ],
   "source": [
    "df.shape # to get the rows x columns"
   ]
  },
  {
   "cell_type": "markdown",
   "metadata": {},
   "source": [
    "## Q3 - Sorting a DataFrame"
   ]
  },
  {
   "cell_type": "code",
   "execution_count": 84,
   "metadata": {},
   "outputs": [
    {
     "data": {
      "text/html": [
       "<div>\n",
       "<style scoped>\n",
       "    .dataframe tbody tr th:only-of-type {\n",
       "        vertical-align: middle;\n",
       "    }\n",
       "\n",
       "    .dataframe tbody tr th {\n",
       "        vertical-align: top;\n",
       "    }\n",
       "\n",
       "    .dataframe thead th {\n",
       "        text-align: right;\n",
       "    }\n",
       "</style>\n",
       "<table border=\"1\" class=\"dataframe\">\n",
       "  <thead>\n",
       "    <tr style=\"text-align: right;\">\n",
       "      <th></th>\n",
       "      <th>Exam_grade</th>\n",
       "      <th>quiz_grade</th>\n",
       "      <th>gender</th>\n",
       "    </tr>\n",
       "  </thead>\n",
       "  <tbody>\n",
       "    <tr>\n",
       "      <th>23</th>\n",
       "      <td>102</td>\n",
       "      <td>45</td>\n",
       "      <td>male</td>\n",
       "    </tr>\n",
       "    <tr>\n",
       "      <th>3</th>\n",
       "      <td>102</td>\n",
       "      <td>21</td>\n",
       "      <td>male</td>\n",
       "    </tr>\n",
       "    <tr>\n",
       "      <th>1</th>\n",
       "      <td>102</td>\n",
       "      <td>21</td>\n",
       "      <td>female</td>\n",
       "    </tr>\n",
       "    <tr>\n",
       "      <th>4</th>\n",
       "      <td>97</td>\n",
       "      <td>3</td>\n",
       "      <td>female</td>\n",
       "    </tr>\n",
       "    <tr>\n",
       "      <th>9</th>\n",
       "      <td>95</td>\n",
       "      <td>12</td>\n",
       "      <td>male</td>\n",
       "    </tr>\n",
       "    <tr>\n",
       "      <th>5</th>\n",
       "      <td>95</td>\n",
       "      <td>10</td>\n",
       "      <td>female</td>\n",
       "    </tr>\n",
       "    <tr>\n",
       "      <th>6</th>\n",
       "      <td>92</td>\n",
       "      <td>12</td>\n",
       "      <td>male</td>\n",
       "    </tr>\n",
       "    <tr>\n",
       "      <th>0</th>\n",
       "      <td>90</td>\n",
       "      <td>12</td>\n",
       "      <td>male</td>\n",
       "    </tr>\n",
       "    <tr>\n",
       "      <th>25</th>\n",
       "      <td>90</td>\n",
       "      <td>30</td>\n",
       "      <td>female</td>\n",
       "    </tr>\n",
       "    <tr>\n",
       "      <th>18</th>\n",
       "      <td>89</td>\n",
       "      <td>15</td>\n",
       "      <td>female</td>\n",
       "    </tr>\n",
       "    <tr>\n",
       "      <th>10</th>\n",
       "      <td>86</td>\n",
       "      <td>19</td>\n",
       "      <td>male</td>\n",
       "    </tr>\n",
       "    <tr>\n",
       "      <th>21</th>\n",
       "      <td>84</td>\n",
       "      <td>25</td>\n",
       "      <td>male</td>\n",
       "    </tr>\n",
       "    <tr>\n",
       "      <th>19</th>\n",
       "      <td>82</td>\n",
       "      <td>15</td>\n",
       "      <td>male</td>\n",
       "    </tr>\n",
       "    <tr>\n",
       "      <th>12</th>\n",
       "      <td>80</td>\n",
       "      <td>15</td>\n",
       "      <td>female</td>\n",
       "    </tr>\n",
       "    <tr>\n",
       "      <th>14</th>\n",
       "      <td>67</td>\n",
       "      <td>0</td>\n",
       "      <td>male</td>\n",
       "    </tr>\n",
       "    <tr>\n",
       "      <th>11</th>\n",
       "      <td>64</td>\n",
       "      <td>10</td>\n",
       "      <td>female</td>\n",
       "    </tr>\n",
       "    <tr>\n",
       "      <th>15</th>\n",
       "      <td>64</td>\n",
       "      <td>14</td>\n",
       "      <td>male</td>\n",
       "    </tr>\n",
       "    <tr>\n",
       "      <th>20</th>\n",
       "      <td>59</td>\n",
       "      <td>50</td>\n",
       "      <td>male</td>\n",
       "    </tr>\n",
       "    <tr>\n",
       "      <th>22</th>\n",
       "      <td>58</td>\n",
       "      <td>45</td>\n",
       "      <td>female</td>\n",
       "    </tr>\n",
       "    <tr>\n",
       "      <th>2</th>\n",
       "      <td>56</td>\n",
       "      <td>21</td>\n",
       "      <td>female</td>\n",
       "    </tr>\n",
       "    <tr>\n",
       "      <th>16</th>\n",
       "      <td>51</td>\n",
       "      <td>24</td>\n",
       "      <td>male</td>\n",
       "    </tr>\n",
       "    <tr>\n",
       "      <th>13</th>\n",
       "      <td>50</td>\n",
       "      <td>10</td>\n",
       "      <td>male</td>\n",
       "    </tr>\n",
       "    <tr>\n",
       "      <th>24</th>\n",
       "      <td>44</td>\n",
       "      <td>47</td>\n",
       "      <td>female</td>\n",
       "    </tr>\n",
       "    <tr>\n",
       "      <th>17</th>\n",
       "      <td>42</td>\n",
       "      <td>34</td>\n",
       "      <td>male</td>\n",
       "    </tr>\n",
       "    <tr>\n",
       "      <th>8</th>\n",
       "      <td>31</td>\n",
       "      <td>45</td>\n",
       "      <td>female</td>\n",
       "    </tr>\n",
       "    <tr>\n",
       "      <th>7</th>\n",
       "      <td>3</td>\n",
       "      <td>14</td>\n",
       "      <td>female</td>\n",
       "    </tr>\n",
       "  </tbody>\n",
       "</table>\n",
       "</div>"
      ],
      "text/plain": [
       "    Exam_grade  quiz_grade  gender\n",
       "23         102          45    male\n",
       "3          102          21    male\n",
       "1          102          21  female\n",
       "4           97           3  female\n",
       "9           95          12    male\n",
       "5           95          10  female\n",
       "6           92          12    male\n",
       "0           90          12    male\n",
       "25          90          30  female\n",
       "18          89          15  female\n",
       "10          86          19    male\n",
       "21          84          25    male\n",
       "19          82          15    male\n",
       "12          80          15  female\n",
       "14          67           0    male\n",
       "11          64          10  female\n",
       "15          64          14    male\n",
       "20          59          50    male\n",
       "22          58          45  female\n",
       "2           56          21  female\n",
       "16          51          24    male\n",
       "13          50          10    male\n",
       "24          44          47  female\n",
       "17          42          34    male\n",
       "8           31          45  female\n",
       "7            3          14  female"
      ]
     },
     "execution_count": 84,
     "metadata": {},
     "output_type": "execute_result"
    }
   ],
   "source": [
    "# df.sort_values(by=\"Exam_grade\") # ascending order is the default\n",
    "df.sort_values(by=\"Exam_grade\", ascending=False) # descending order \n"
   ]
  },
  {
   "cell_type": "markdown",
   "metadata": {},
   "source": [
    "## Q4 - Creating a subset "
   ]
  },
  {
   "cell_type": "code",
   "execution_count": 49,
   "metadata": {},
   "outputs": [
    {
     "name": "stdout",
     "output_type": "stream",
     "text": [
      "   quiz_grade\n",
      "0          12\n",
      "1          21\n",
      "2          21\n",
      "3          21\n",
      "4           3\n"
     ]
    }
   ],
   "source": [
    "# making a sub dataframe\n",
    "sub_df = df[[\"quiz_grade\"]]\n",
    "print(sub_df.head())"
   ]
  },
  {
   "cell_type": "markdown",
   "metadata": {},
   "source": [
    "## Creating a Scatter Plot"
   ]
  },
  {
   "cell_type": "code",
   "execution_count": 50,
   "metadata": {},
   "outputs": [],
   "source": [
    "import matplotlib.pyplot as plt\n",
    "import seaborn as sns "
   ]
  },
  {
   "cell_type": "code",
   "execution_count": 51,
   "metadata": {},
   "outputs": [
    {
     "data": {
      "image/png": "[encoded data removed]",
      "text/plain": [
       "<Figure size 640x480 with 1 Axes>"
      ]
     },
     "metadata": {},
     "output_type": "display_data"
    }
   ],
   "source": [
    "plt.scatter(df.index, df['Exam_grade'], color='green')\n",
    "plt.title(\"Exam scored\")\n",
    "plt.xlabel(\"students\")\n",
    "plt.ylabel(\"score\")\n",
    "plt.show()"
   ]
  },
  {
   "cell_type": "markdown",
   "metadata": {},
   "source": [
    "## Q6 - Creating a Violin plot"
   ]
  },
  {
   "cell_type": "code",
   "execution_count": 52,
   "metadata": {},
   "outputs": [],
   "source": [
    "import seaborn as sns"
   ]
  },
  {
   "cell_type": "code",
   "execution_count": 55,
   "metadata": {},
   "outputs": [
    {
     "data": {
      "text/plain": [
       "<Axes: xlabel='gender', ylabel='quiz_grade'>"
      ]
     },
     "execution_count": 55,
     "metadata": {},
     "output_type": "execute_result"
    },
    {
     "data": {
      "image/png": "[encoded data removed]",
      "text/plain": [
       "<Figure size 640x480 with 1 Axes>"
      ]
     },
     "metadata": {},
     "output_type": "display_data"
    }
   ],
   "source": [
    "sns.violinplot(x=\"gender\", y=\"quiz_grade\", hue=\"gender\",data=df)"
   ]
  },
  {
   "cell_type": "markdown",
   "metadata": {},
   "source": [
    "## Q7 - Running Linear Regression"
   ]
  },
  {
   "cell_type": "code",
   "execution_count": 57,
   "metadata": {},
   "outputs": [
    {
     "name": "stdout",
     "output_type": "stream",
     "text": [
      "                            OLS Regression Results                            \n",
      "==============================================================================\n",
      "Dep. Variable:             Exam_grade   R-squared:                       0.075\n",
      "Model:                            OLS   Adj. R-squared:                  0.036\n",
      "Method:                 Least Squares   F-statistic:                     1.935\n",
      "Date:                Sun, 08 Dec 2024   Prob (F-statistic):              0.177\n",
      "Time:                        23:02:18   Log-Likelihood:                -119.41\n",
      "No. Observations:                  26   AIC:                             242.8\n",
      "Df Residuals:                      24   BIC:                             245.3\n",
      "Df Model:                           1                                         \n",
      "Covariance Type:            nonrobust                                         \n",
      "==============================================================================\n",
      "                 coef    std err          t      P>|t|      [0.025      0.975]\n",
      "------------------------------------------------------------------------------\n",
      "Intercept     82.7403      9.063      9.130      0.000      64.036     101.445\n",
      "quiz_grade    -0.4855      0.349     -1.391      0.177      -1.206       0.235\n",
      "==============================================================================\n",
      "Omnibus:                        7.002   Durbin-Watson:                   1.853\n",
      "Prob(Omnibus):                  0.030   Jarque-Bera (JB):                4.977\n",
      "Skew:                          -0.893   Prob(JB):                       0.0830\n",
      "Kurtosis:                       4.184   Cond. No.                         48.3\n",
      "==============================================================================\n",
      "\n",
      "Notes:\n",
      "[1] Standard Errors assume that the covariance matrix of the errors is correctly specified.\n"
     ]
    }
   ],
   "source": [
    "import statsmodels.formula.api as smf\n",
    "\n",
    "# Fit the linear regression model: Exam_grade ~ quiz_grade\n",
    "model = smf.ols('Exam_grade ~ quiz_grade', data=df).fit()\n",
    "# Print the summary of the regression model\n",
    "print(model.summary())"
   ]
  },
  {
   "cell_type": "markdown",
   "metadata": {},
   "source": [
    "## Q8 Plotting Linear Regression"
   ]
  },
  {
   "cell_type": "code",
   "execution_count": 85,
   "metadata": {},
   "outputs": [
    {
     "name": "stderr",
     "output_type": "stream",
     "text": [
      "/var/folders/kx/qbfp_v_541bgkt_z6sf7fp7h0000gn/T/ipykernel_67370/2062143016.py:1: UserWarning: Ignoring `palette` because no `hue` variable has been assigned.\n",
      "  sns.scatterplot(\n"
     ]
    },
    {
     "data": {
      "image/png": "[encoded data removed]",
      "text/plain": [
       "<Figure size 640x480 with 1 Axes>"
      ]
     },
     "metadata": {},
     "output_type": "display_data"
    }
   ],
   "source": [
    "sns.scatterplot(\n",
    "    x=\"Exam_grade\",\n",
    "    y=\"quiz_grade\",\n",
    "    data=df, \n",
    "    palette=\"coolwarm\", \n",
    "\n",
    ")\n",
    "#regression plot\n",
    "sns.regplot(\n",
    "    x=\"Exam_grade\",\n",
    "    y=\"quiz_grade\",\n",
    "    data=df,\n",
    "    scatter_kws={'alpha':0}, # this adjust the transparency of scatter points\n",
    "    line_kws={'color':'red'} #customize the line color\n",
    ")\n",
    "plt.show()"
   ]
  },
  {
   "cell_type": "markdown",
   "metadata": {},
   "source": [
    "## Q9 - Grouping Data\n"
   ]
  },
  {
   "cell_type": "code",
   "execution_count": 61,
   "metadata": {},
   "outputs": [
    {
     "name": "stdout",
     "output_type": "stream",
     "text": [
      "gender\n",
      "female    67.416667\n",
      "male      76.142857\n",
      "Name: Exam_grade, dtype: float64\n"
     ]
    }
   ],
   "source": [
    "group_by_gender = df.groupby(\"gender\")[\"Exam_grade\"].mean()\n",
    "print(group_by_gender)"
   ]
  },
  {
   "cell_type": "markdown",
   "metadata": {},
   "source": [
    "## Q-10 Combining and Cleaning DataFrames"
   ]
  },
  {
   "cell_type": "code",
   "execution_count": 68,
   "metadata": {},
   "outputs": [],
   "source": [
    "data1 = pd.DataFrame({\n",
    "    'Apple': [12, 45, 30, 20, 25],\n",
    "    'Cherry': [15, 50, 35, 25, 30],\n",
    "    'Orange': [15, 50, 32, 25, 30],\n",
    "})\n",
    "\n",
    "data2 = pd.DataFrame({\n",
    "    'Orange': [12, 45, 30, 20, 25,3],\n",
    "    'Cherry': [15, 50, 35, 25, 30,2],\n",
    "    'Pear': [12, 45, 30, 20, 25,2],\n",
    "})"
   ]
  },
  {
   "cell_type": "code",
   "execution_count": 69,
   "metadata": {},
   "outputs": [
    {
     "name": "stdout",
     "output_type": "stream",
     "text": [
      "   Apple  Cherry  Orange  Pear\n",
      "0   12.0      15      15   NaN\n",
      "1   45.0      50      50   NaN\n",
      "2   30.0      35      32   NaN\n",
      "3   20.0      25      25   NaN\n",
      "4   25.0      30      30   NaN\n",
      "0    NaN      15      12  12.0\n",
      "1    NaN      50      45  45.0\n",
      "2    NaN      35      30  30.0\n",
      "3    NaN      25      20  20.0\n",
      "4    NaN      30      25  25.0\n",
      "5    NaN       2       3   2.0\n"
     ]
    }
   ],
   "source": [
    "#Concat deafults\n",
    "appended_df = pd.concat([data1,data2])\n",
    "print(appended_df)"
   ]
  },
  {
   "cell_type": "code",
   "execution_count": 70,
   "metadata": {},
   "outputs": [
    {
     "name": "stdout",
     "output_type": "stream",
     "text": [
      "   Apple  Cherry  Orange  Pear\n",
      "0   12.0      15      15   NaN\n",
      "1   45.0      50      50   NaN\n",
      "2   30.0      35      32   NaN\n",
      "3   20.0      25      25   NaN\n",
      "4   25.0      30      30   NaN\n",
      "0    NaN      15      12  12.0\n",
      "1    NaN      50      45  45.0\n",
      "2    NaN      35      30  30.0\n",
      "3    NaN      25      20  20.0\n",
      "4    NaN      30      25  25.0\n",
      "5    NaN       2       3   2.0\n"
     ]
    }
   ],
   "source": [
    "#Concat deafults is basically axis=0\n",
    "# this will merge the first df1 to df2 like this\n",
    "# content \n",
    "# df1 and on the bottom will be df2\n",
    "\n",
    "appended_df = pd.concat([data1,data2], axis=0)\n",
    "print(appended_df)"
   ]
  },
  {
   "cell_type": "code",
   "execution_count": 71,
   "metadata": {},
   "outputs": [
    {
     "name": "stdout",
     "output_type": "stream",
     "text": [
      "   Apple  Cherry  Orange  Orange  Cherry  Pear\n",
      "0   12.0    15.0    15.0      12      15    12\n",
      "1   45.0    50.0    50.0      45      50    45\n",
      "2   30.0    35.0    32.0      30      35    30\n",
      "3   20.0    25.0    25.0      20      25    20\n",
      "4   25.0    30.0    30.0      25      30    25\n",
      "5    NaN     NaN     NaN       3       2     2\n"
     ]
    }
   ],
   "source": [
    "# here the data will concat from left to right in this case\n",
    "# df1 then df2 \n",
    "appended_df = pd.concat([data1,data2], axis=1)\n",
    "print(appended_df)"
   ]
  },
  {
   "cell_type": "markdown",
   "metadata": {},
   "source": [
    "### Merging: works like joins in Database"
   ]
  },
  {
   "cell_type": "code",
   "execution_count": 77,
   "metadata": {},
   "outputs": [],
   "source": [
    "df1 = pd.DataFrame({\n",
    "    'id': [1,2,3],\n",
    "    'name': ['aline','bob','john'],\n",
    "    'age': [25,43,12]\n",
    "})\n",
    "df2 = pd.DataFrame({\n",
    "    'id': [1,2,4],\n",
    "    'city': ['New york','philly','chicago'],\n",
    "    'salary': [25000,430000,12000]\n",
    "})"
   ]
  },
  {
   "cell_type": "code",
   "execution_count": 78,
   "metadata": {},
   "outputs": [
    {
     "name": "stdout",
     "output_type": "stream",
     "text": [
      "   id   name  age      city  salary\n",
      "0   1  aline   25  New york   25000\n",
      "1   2    bob   43    philly  430000\n"
     ]
    }
   ],
   "source": [
    "merged_inner = pd.merge(df1,df2,on='id')\n",
    "print(merged_inner)"
   ]
  },
  {
   "cell_type": "code",
   "execution_count": 79,
   "metadata": {},
   "outputs": [
    {
     "name": "stdout",
     "output_type": "stream",
     "text": [
      "   id   name  age      city    salary\n",
      "0   1  aline   25  New york   25000.0\n",
      "1   2    bob   43    philly  430000.0\n",
      "2   3   john   12       NaN       NaN\n"
     ]
    }
   ],
   "source": [
    "merged_left = pd.merge(df1,df2,how='left')\n",
    "print(merged_left)"
   ]
  },
  {
   "cell_type": "code",
   "execution_count": 81,
   "metadata": {},
   "outputs": [
    {
     "name": "stdout",
     "output_type": "stream",
     "text": [
      "   id   name   age      city  salary\n",
      "0   1  aline  25.0  New york   25000\n",
      "1   2    bob  43.0    philly  430000\n",
      "2   4    NaN   NaN   chicago   12000\n"
     ]
    }
   ],
   "source": [
    "merged_right= pd.merge(df1,df2,how='right')\n",
    "print(merged_right)"
   ]
  },
  {
   "cell_type": "code",
   "execution_count": 82,
   "metadata": {},
   "outputs": [
    {
     "name": "stdout",
     "output_type": "stream",
     "text": [
      "   id   name   age      city    salary\n",
      "0   1  aline  25.0  New york   25000.0\n",
      "1   2    bob  43.0    philly  430000.0\n",
      "2   3   john  12.0       NaN       NaN\n",
      "3   4    NaN   NaN   chicago   12000.0\n"
     ]
    }
   ],
   "source": [
    "merged_outer = pd.merge(df1,df2, how='outer')\n",
    "print(merged_outer)"
   ]
  }
 ],
 "metadata": {
  "kernelspec": {
   "display_name": "Python 3.12.5 64-bit",
   "language": "python",
   "name": "python3"
  },
  "language_info": {
   "codemirror_mode": {
    "name": "ipython",
    "version": 3
   },
   "file_extension": ".py",
   "mimetype": "text/x-python",
   "name": "python",
   "nbconvert_exporter": "python",
   "pygments_lexer": "ipython3",
   "version": "3.12.5"
  },
  "orig_nbformat": 4,
  "vscode": {
   "interpreter": {
    "hash": "aee8b7b246df8f9039afb4144a1f6fd8d2ca17a180786b69acc140d282b71a49"
   }
  }
 },
 "nbformat": 4,
 "nbformat_minor": 2
}
