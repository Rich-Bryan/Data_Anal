{
 "cells": [
  {
   "cell_type": "markdown",
   "metadata": {},
   "source": [
    "# Concatenating Data"
   ]
  },
  {
   "cell_type": "code",
   "execution_count": 1,
   "metadata": {},
   "outputs": [],
   "source": [
    "import pandas as pd"
   ]
  },
  {
   "cell_type": "code",
   "execution_count": 2,
   "metadata": {},
   "outputs": [],
   "source": [
    "years = range(2010, 2022)"
   ]
  },
  {
   "cell_type": "code",
   "execution_count": 11,
   "metadata": {},
   "outputs": [],
   "source": [
    "base_path = '/Users/bryan/data scripting/Data_Anal/bitcoin_data'"
   ]
  },
  {
   "cell_type": "code",
   "execution_count": 9,
   "metadata": {},
   "outputs": [],
   "source": [
    "bitcoin_data = {} # dict to store the DataFrames"
   ]
  },
  {
   "cell_type": "code",
   "execution_count": 16,
   "metadata": {},
   "outputs": [
    {
     "name": "stdout",
     "output_type": "stream",
     "text": [
      "          Date  Price   Open   High    Low     Vol ChangePct\n",
      "0    31-Dec-16  963.4  959.0  965.5  942.4  27.56K     0.45%\n",
      "1    30-Dec-16  959.0  971.1  971.6  927.4  70.84K    -1.24%\n",
      "2    29-Dec-16  971.1  972.2  982.6  949.2  61.13K    -0.11%\n",
      "3    28-Dec-16  972.2  925.8  974.5  925.5  77.29K     5.01%\n",
      "4    27-Dec-16  925.8  898.4  937.9  893.4  49.69K     3.05%\n",
      "..         ...    ...    ...    ...    ...     ...       ...\n",
      "361   5-Jan-16  431.2  433.3  435.3  428.9  45.03K    -0.49%\n",
      "362   4-Jan-16  433.3  430.7  435.3  428.6  53.01K     0.61%\n",
      "363   3-Jan-16  430.7  433.7  434.1  423.1  54.83K    -0.70%\n",
      "364   2-Jan-16  433.7  434.0  437.4  430.7  33.57K    -0.06%\n",
      "365   1-Jan-16  434.0  430.0  438.0  425.9  46.97K     0.94%\n",
      "\n",
      "[366 rows x 7 columns]\n"
     ]
    }
   ],
   "source": [
    "\n",
    "\n",
    "bitcoin2010 = pd.read_csv('/Users/bryan/data scripting/Data_Anal/bitcoin_data/Bitcoin2010.csv')\n",
    "bitcoin2011 = pd.read_csv('/Users/bryan/data scripting/Data_Anal/bitcoin_data/Bitcoin2011.csv')\n",
    "bitcoin2012 = pd.read_csv('/Users/bryan/data scripting/Data_Anal/bitcoin_data/Bitcoin2012.csv')\n",
    "bitcoin2013 = pd.read_csv('/Users/bryan/data scripting/Data_Anal/bitcoin_data/Bitcoin2013.csv')\n",
    "bitcoin2014 = pd.read_csv('/Users/bryan/data scripting/Data_Anal/bitcoin_data/Bitcoin2014.csv')\n",
    "bitcoin2015 = pd.read_csv('/Users/bryan/data scripting/Data_Anal/bitcoin_data/Bitcoin2015.csv')\n",
    "bitcoin2016 = pd.read_csv('/Users/bryan/data scripting/Data_Anal/bitcoin_data/Bitcoin2016.csv')\n",
    "bitcoin2017 = pd.read_csv('/Users/bryan/data scripting/Data_Anal/bitcoin_data/Bitcoin2017.csv')\n",
    "bitcoin2018 = pd.read_csv('/Users/bryan/data scripting/Data_Anal/bitcoin_data/Bitcoin2018.csv')\n",
    "bitcoin2019 = pd.read_csv('/Users/bryan/data scripting/Data_Anal/bitcoin_data/Bitcoin2019.csv')\n",
    "bitcoin2020 = pd.read_csv('/Users/bryan/data scripting/Data_Anal/bitcoin_data/Bitcoin2020.csv')\n",
    "bitcoin2021 = pd.read_csv('/Users/bryan/data scripting/Data_Anal/bitcoin_data/Bitcoin2021.csv')\n",
    "\n",
    "print(bitcoin2016)"
   ]
  },
  {
   "cell_type": "markdown",
   "metadata": {},
   "source": [
    "## can do it this way which is faster if we have 1000"
   ]
  },
  {
   "cell_type": "code",
   "execution_count": 12,
   "metadata": {},
   "outputs": [],
   "source": [
    "for year in years:\n",
    "    file_path = f'{base_path}/Bitcoin{year}.csv'\n",
    "    bitcoin_data[f'bitcoin{year}'] = pd.read_csv(file_path)"
   ]
  },
  {
   "cell_type": "code",
   "execution_count": 13,
   "metadata": {},
   "outputs": [
    {
     "name": "stdout",
     "output_type": "stream",
     "text": [
      "          Date  Price   Open   High    Low     Vol ChangePct\n",
      "0    31-Dec-16  963.4  959.0  965.5  942.4  27.56K     0.45%\n",
      "1    30-Dec-16  959.0  971.1  971.6  927.4  70.84K    -1.24%\n",
      "2    29-Dec-16  971.1  972.2  982.6  949.2  61.13K    -0.11%\n",
      "3    28-Dec-16  972.2  925.8  974.5  925.5  77.29K     5.01%\n",
      "4    27-Dec-16  925.8  898.4  937.9  893.4  49.69K     3.05%\n",
      "..         ...    ...    ...    ...    ...     ...       ...\n",
      "361   5-Jan-16  431.2  433.3  435.3  428.9  45.03K    -0.49%\n",
      "362   4-Jan-16  433.3  430.7  435.3  428.6  53.01K     0.61%\n",
      "363   3-Jan-16  430.7  433.7  434.1  423.1  54.83K    -0.70%\n",
      "364   2-Jan-16  433.7  434.0  437.4  430.7  33.57K    -0.06%\n",
      "365   1-Jan-16  434.0  430.0  438.0  425.9  46.97K     0.94%\n",
      "\n",
      "[366 rows x 7 columns]\n"
     ]
    }
   ],
   "source": [
    "print(bitcoin_data['bitcoin2016'])"
   ]
  },
  {
   "cell_type": "markdown",
   "metadata": {},
   "source": [
    "# Concatenate the Data Frames"
   ]
  },
  {
   "cell_type": "code",
   "execution_count": 18,
   "metadata": {},
   "outputs": [
    {
     "name": "stdout",
     "output_type": "stream",
     "text": [
      "          Date      Price       Open       High        Low      Vol ChangePct\n",
      "0    31-Dec-10        0.3        0.3        0.3        0.3    1.45K     0.00%\n",
      "1    30-Dec-10        0.3        0.3        0.3        0.3    2.54K     0.00%\n",
      "2    29-Dec-10        0.3        0.3        0.3        0.3   18.61K     0.00%\n",
      "3    28-Dec-10        0.3        0.3        0.3        0.3   15.44K     0.00%\n",
      "4    27-Dec-10        0.3        0.3        0.3        0.3    4.94K     0.00%\n",
      "..         ...        ...        ...        ...        ...      ...       ...\n",
      "184   5-Jan-21  33,991.50  32,015.40  34,414.70  30,010.50  202.13K     6.15%\n",
      "185   4-Jan-21  32,022.60  33,016.60  33,587.50  28,204.50  255.27K    -2.84%\n",
      "186   3-Jan-21  32,958.90  32,192.90  34,755.90  32,029.60  155.21K     2.38%\n",
      "187   2-Jan-21  32,193.30  29,359.70  33,233.50  29,008.00  240.87K     9.65%\n",
      "188   1-Jan-21  29,359.90  28,951.70  29,627.10  28,712.40  100.90K     1.42%\n",
      "\n",
      "[4009 rows x 7 columns]\n"
     ]
    }
   ],
   "source": [
    "bitcoin2010to2021 = pd.concat([\n",
    "    bitcoin2010,\n",
    "    bitcoin2011,\n",
    "    bitcoin2012,\n",
    "    bitcoin2013,\n",
    "    bitcoin2014,\n",
    "    bitcoin2015,\n",
    "    bitcoin2016,\n",
    "    bitcoin2017,\n",
    "    bitcoin2018,\n",
    "    bitcoin2019,\n",
    "    bitcoin2020,\n",
    "    bitcoin2021\n",
    "])\n",
    "print(bitcoin2010to2021)"
   ]
  },
  {
   "cell_type": "markdown",
   "metadata": {},
   "source": [
    "## a better way to concat "
   ]
  },
  {
   "cell_type": "code",
   "execution_count": null,
   "metadata": {},
   "outputs": [],
   "source": [
    "bitcoin2010to2021 = pd.concat([bitcoin_data[f'bitcoin{year}'] for year in years], ignore_index=True)"
   ]
  }
 ],
 "metadata": {
  "kernelspec": {
   "display_name": "Python 3.12.5 64-bit",
   "language": "python",
   "name": "python3"
  },
  "language_info": {
   "codemirror_mode": {
    "name": "ipython",
    "version": 3
   },
   "file_extension": ".py",
   "mimetype": "text/x-python",
   "name": "python",
   "nbconvert_exporter": "python",
   "pygments_lexer": "ipython3",
   "version": "3.12.5"
  },
  "orig_nbformat": 4,
  "vscode": {
   "interpreter": {
    "hash": "aee8b7b246df8f9039afb4144a1f6fd8d2ca17a180786b69acc140d282b71a49"
   }
  }
 },
 "nbformat": 4,
 "nbformat_minor": 2
}
