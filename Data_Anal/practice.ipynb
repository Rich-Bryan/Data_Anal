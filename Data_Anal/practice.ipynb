{
 "cells": [
  {
   "cell_type": "code",
   "execution_count": 1,
   "metadata": {},
   "outputs": [],
   "source": [
    "import pandas as pd \n"
   ]
  },
  {
   "cell_type": "code",
   "execution_count": 2,
   "metadata": {},
   "outputs": [],
   "source": [
    "filname = \"ICACreditRisk.csv\"\n",
    "df = pd.read_csv(filname)"
   ]
  },
  {
   "cell_type": "code",
   "execution_count": 23,
   "metadata": {},
   "outputs": [
    {
     "name": "stdout",
     "output_type": "stream",
     "text": [
      "   person_age  person_income person_home_ownership  person_emp_length  \\\n",
      "0          22          59000                  RENT              123.0   \n",
      "1          21           9600                   OWN                5.0   \n",
      "2          25           9600              MORTGAGE                1.0   \n",
      "3          23          65500                  RENT                4.0   \n",
      "4          24          54400                  RENT                8.0   \n",
      "\n",
      "  loan_intent loan_grade  loan_amnt  loan_int_rate  loan_status  \\\n",
      "0    PERSONAL          D      35000          16.02            1   \n",
      "1   EDUCATION          B       1000          11.14            0   \n",
      "2     MEDICAL          C       5500          12.87            1   \n",
      "3     MEDICAL          C      35000          15.23            1   \n",
      "4     MEDICAL          C      35000          14.27            1   \n",
      "\n",
      "   loan_percent_income cb_person_default_on_file  cb_person_cred_hist_length  \\\n",
      "0                 0.59                         Y                           3   \n",
      "1                 0.10                         N                           2   \n",
      "2                 0.57                         N                           3   \n",
      "3                 0.53                         N                           2   \n",
      "4                 0.55                         Y                           4   \n",
      "\n",
      "  RiskLevel  LoanToIncomeRatio  \n",
      "0    medium              0.593  \n",
      "1       low              0.104  \n",
      "2       low              0.573  \n",
      "3      high              0.534  \n",
      "4    medium              0.643  \n",
      "       person_age  person_income person_home_ownership  person_emp_length  \\\n",
      "32576          57          53000              MORTGAGE                1.0   \n",
      "32577          54         120000              MORTGAGE                4.0   \n",
      "32578          65          76000                  RENT                3.0   \n",
      "32579          56         150000              MORTGAGE                5.0   \n",
      "32580          66          42000                  RENT                2.0   \n",
      "\n",
      "           loan_intent loan_grade  loan_amnt  loan_int_rate  loan_status  \\\n",
      "32576         PERSONAL          C       5800          13.16            0   \n",
      "32577         PERSONAL          A      17625           7.49            0   \n",
      "32578  HOMEIMPROVEMENT          B      35000          10.99            1   \n",
      "32579         PERSONAL          B      15000          11.48            0   \n",
      "32580          MEDICAL          B       6475           9.99            0   \n",
      "\n",
      "       loan_percent_income cb_person_default_on_file  \\\n",
      "32576                 0.11                         N   \n",
      "32577                 0.15                         N   \n",
      "32578                 0.46                         N   \n",
      "32579                 0.10                         N   \n",
      "32580                 0.15                         N   \n",
      "\n",
      "       cb_person_cred_hist_length RiskLevel  LoanToIncomeRatio  \n",
      "32576                          30    medium              0.109  \n",
      "32577                          19       NaN              0.147  \n",
      "32578                          28      high              0.461  \n",
      "32579                          26       NaN              0.100  \n",
      "32580                          30    medium              0.154  \n",
      "<class 'pandas.core.frame.DataFrame'>\n",
      "RangeIndex: 32581 entries, 0 to 32580\n",
      "Data columns (total 14 columns):\n",
      " #   Column                      Non-Null Count  Dtype   \n",
      "---  ------                      --------------  -----   \n",
      " 0   person_age                  32581 non-null  int64   \n",
      " 1   person_income               32581 non-null  int64   \n",
      " 2   person_home_ownership       32581 non-null  object  \n",
      " 3   person_emp_length           31686 non-null  float64 \n",
      " 4   loan_intent                 32581 non-null  object  \n",
      " 5   loan_grade                  32581 non-null  object  \n",
      " 6   loan_amnt                   32581 non-null  int64   \n",
      " 7   loan_int_rate               29465 non-null  float64 \n",
      " 8   loan_status                 32581 non-null  int64   \n",
      " 9   loan_percent_income         32581 non-null  float64 \n",
      " 10  cb_person_default_on_file   32581 non-null  object  \n",
      " 11  cb_person_cred_hist_length  32581 non-null  int64   \n",
      " 12  RiskLevel                   28374 non-null  category\n",
      " 13  LoanToIncomeRatio           32581 non-null  float64 \n",
      "dtypes: category(1), float64(4), int64(5), object(4)\n",
      "memory usage: 3.3+ MB\n"
     ]
    }
   ],
   "source": [
    "print(df.head())\n",
    "print(df.tail())"
   ]
  },
  {
   "cell_type": "code",
   "execution_count": 24,
   "metadata": {},
   "outputs": [
    {
     "name": "stdout",
     "output_type": "stream",
     "text": [
      "<class 'pandas.core.frame.DataFrame'>\n",
      "RangeIndex: 32581 entries, 0 to 32580\n",
      "Data columns (total 14 columns):\n",
      " #   Column                      Non-Null Count  Dtype   \n",
      "---  ------                      --------------  -----   \n",
      " 0   person_age                  32581 non-null  int64   \n",
      " 1   person_income               32581 non-null  int64   \n",
      " 2   person_home_ownership       32581 non-null  object  \n",
      " 3   person_emp_length           31686 non-null  float64 \n",
      " 4   loan_intent                 32581 non-null  object  \n",
      " 5   loan_grade                  32581 non-null  object  \n",
      " 6   loan_amnt                   32581 non-null  int64   \n",
      " 7   loan_int_rate               29465 non-null  float64 \n",
      " 8   loan_status                 32581 non-null  int64   \n",
      " 9   loan_percent_income         32581 non-null  float64 \n",
      " 10  cb_person_default_on_file   32581 non-null  object  \n",
      " 11  cb_person_cred_hist_length  32581 non-null  int64   \n",
      " 12  RiskLevel                   28374 non-null  category\n",
      " 13  LoanToIncomeRatio           32581 non-null  float64 \n",
      "dtypes: category(1), float64(4), int64(5), object(4)\n",
      "memory usage: 3.3+ MB\n"
     ]
    }
   ],
   "source": [
    "df.info()"
   ]
  },
  {
   "cell_type": "code",
   "execution_count": 22,
   "metadata": {},
   "outputs": [],
   "source": [
    "df[\"LoanToIncomeRatio\"] = (df['loan_amnt'] / df['person_income']).round(3)"
   ]
  },
  {
   "cell_type": "code",
   "execution_count": 15,
   "metadata": {},
   "outputs": [],
   "source": [
    "df['RiskLevel'] = pd.cut(df['person_income'], bins=[0, 30000, 60000, 100000], labels=[\"low\", \"medium\", \"high\"])\n"
   ]
  },
  {
   "cell_type": "code",
   "execution_count": 16,
   "metadata": {},
   "outputs": [
    {
     "name": "stdout",
     "output_type": "stream",
     "text": [
      "0    medium\n",
      "1       low\n",
      "2       low\n",
      "3      high\n",
      "4    medium\n",
      "Name: RiskLevel, dtype: category\n",
      "Categories (3, object): ['low' < 'medium' < 'high']\n"
     ]
    }
   ],
   "source": [
    "print(df['RiskLevel'].head())"
   ]
  },
  {
   "cell_type": "code",
   "execution_count": 27,
   "metadata": {},
   "outputs": [],
   "source": [
    "#rename a column\n",
    "df = df.rename(columns={'loan_int_rate':\"InterestRate\"})"
   ]
  },
  {
   "cell_type": "code",
   "execution_count": 30,
   "metadata": {},
   "outputs": [],
   "source": [
    "summary = df.groupby(\"RiskLevel\",observed=False).agg({\n",
    "    'LoanToIncomeRatio': \"mean\",\n",
    "    \"InterestRate\": \"mean\"\n",
    "}).round(3)"
   ]
  },
  {
   "cell_type": "code",
   "execution_count": 33,
   "metadata": {},
   "outputs": [
    {
     "name": "stdout",
     "output_type": "stream",
     "text": [
      "           LoanToIncomeRatio  InterestRate\n",
      "RiskLevel                                 \n",
      "low                    0.232        11.236\n",
      "medium                 0.187        11.018\n",
      "high                   0.146        10.867\n"
     ]
    }
   ],
   "source": [
    "print(summary)"
   ]
  }
 ],
 "metadata": {
  "kernelspec": {
   "display_name": "Python 3.12.5 64-bit",
   "language": "python",
   "name": "python3"
  },
  "language_info": {
   "codemirror_mode": {
    "name": "ipython",
    "version": 3
   },
   "file_extension": ".py",
   "mimetype": "text/x-python",
   "name": "python",
   "nbconvert_exporter": "python",
   "pygments_lexer": "ipython3",
   "version": "3.12.5"
  },
  "orig_nbformat": 4,
  "vscode": {
   "interpreter": {
    "hash": "aee8b7b246df8f9039afb4144a1f6fd8d2ca17a180786b69acc140d282b71a49"
   }
  }
 },
 "nbformat": 4,
 "nbformat_minor": 2
}
