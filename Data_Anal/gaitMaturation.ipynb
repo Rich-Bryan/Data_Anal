{
 "cells": [
  {
   "cell_type": "code",
   "execution_count": 2,
   "metadata": {},
   "outputs": [],
   "source": [
    "import pandas as pd"
   ]
  },
  {
   "cell_type": "code",
   "execution_count": 7,
   "metadata": {},
   "outputs": [],
   "source": [
    "filename = \"data/GaitMaturationDatabase.xlsx\"\n",
    "df = pd.read_excel(filename)"
   ]
  },
  {
   "cell_type": "code",
   "execution_count": 5,
   "metadata": {},
   "outputs": [
    {
     "name": "stdout",
     "output_type": "stream",
     "text": [
      "   subject-id(1-50)  age-months gender  height-inches  weight-lbs  \\\n",
      "0                 1          40      M           40.5          43   \n",
      "1                 2          45      F           40.0          35   \n",
      "2                 3          47      F           39.5          35   \n",
      "3                 4          48      M           40.0          37   \n",
      "4                 5          49      M           39.0          36   \n",
      "\n",
      "   leg-length-inches  Speed-m/sec  Group  \n",
      "0               23.0      1.04289  Young  \n",
      "1               20.0      1.05322  Young  \n",
      "2               21.0      0.98953  Young  \n",
      "3               20.0      1.01551  Young  \n",
      "4               20.0      0.82461  Young  \n"
     ]
    }
   ],
   "source": [
    "print(df.head())"
   ]
  }
 ],
 "metadata": {
  "kernelspec": {
   "display_name": "Python 3.12.5 64-bit",
   "language": "python",
   "name": "python3"
  },
  "language_info": {
   "codemirror_mode": {
    "name": "ipython",
    "version": 3
   },
   "file_extension": ".py",
   "mimetype": "text/x-python",
   "name": "python",
   "nbconvert_exporter": "python",
   "pygments_lexer": "ipython3",
   "version": "3.12.5"
  },
  "orig_nbformat": 4,
  "vscode": {
   "interpreter": {
    "hash": "aee8b7b246df8f9039afb4144a1f6fd8d2ca17a180786b69acc140d282b71a49"
   }
  }
 },
 "nbformat": 4,
 "nbformat_minor": 2
}
