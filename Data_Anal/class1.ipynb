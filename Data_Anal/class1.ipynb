{
 "cells": [
  {
   "cell_type": "code",
   "execution_count": 21,
   "metadata": {},
   "outputs": [],
   "source": [
    "import pandas as pd"
   ]
  },
  {
   "cell_type": "code",
   "execution_count": 22,
   "metadata": {},
   "outputs": [],
   "source": [
    "# Load the Excel file\n",
    "filename = \"data/ICANetflixOriginals.csv\"\n",
    "df = pd.read_csv(filename) # create a pandas object\n"
   ]
  },
  {
   "cell_type": "code",
   "execution_count": 23,
   "metadata": {},
   "outputs": [
    {
     "name": "stdout",
     "output_type": "stream",
     "text": [
      "             Title                  Genre   Premiere  Runtime  IMDB Score  \\\n",
      "0  Enter the Anime            Documentary   5-Aug-19       58         2.5   \n",
      "1      Dark Forces               Thriller  21-Aug-20       81         2.6   \n",
      "2          The App  Science fiction/Drama  26-Dec-19       79         2.6   \n",
      "3   The Open House        Horror thriller  19-Jan-18       94         3.2   \n",
      "4      Kaali Khuhi                Mystery  30-Oct-20       90         3.4   \n",
      "\n",
      "           Language  \n",
      "0  English/Japanese  \n",
      "1           Spanish  \n",
      "2           Italian  \n",
      "3           English  \n",
      "4             Hindi  \n"
     ]
    }
   ],
   "source": [
    "print(df.head())"
   ]
  },
  {
   "cell_type": "code",
   "execution_count": 24,
   "metadata": {},
   "outputs": [
    {
     "name": "stdout",
     "output_type": "stream",
     "text": [
      "                                           Title         Genre   Premiere  \\\n",
      "579        Taylor Swift: Reputation Stadium Tour  Concert Film  31-Dec-18   \n",
      "580  Winter on Fire: Ukraine's Fight for Freedom   Documentary   9-Oct-15   \n",
      "581                      Springsteen on Broadway  One-man show  16-Dec-18   \n",
      "582    Emicida: AmarElo - It's All For Yesterday   Documentary   8-Dec-20   \n",
      "583     David Attenborough: A Life on Our Planet   Documentary   4-Oct-20   \n",
      "\n",
      "     Runtime  IMDB Score                  Language  \n",
      "579      125         8.4                   English  \n",
      "580       91         8.4  English/Ukranian/Russian  \n",
      "581      153         8.5                   English  \n",
      "582       89         8.6                Portuguese  \n",
      "583       83         9.0                   English  \n"
     ]
    }
   ],
   "source": [
    "print(df.tail())"
   ]
  },
  {
   "cell_type": "code",
   "execution_count": 25,
   "metadata": {},
   "outputs": [
    {
     "name": "stdout",
     "output_type": "stream",
     "text": [
      "<class 'pandas.core.frame.DataFrame'>\n",
      "(584, 6)\n"
     ]
    }
   ],
   "source": [
    "print(type(df))\n",
    "print(df.shape) # check the number of row and columns"
   ]
  },
  {
   "cell_type": "code",
   "execution_count": 26,
   "metadata": {},
   "outputs": [
    {
     "name": "stdout",
     "output_type": "stream",
     "text": [
      "Index(['Title', 'Genre', 'Premiere', 'Runtime', 'IMDB Score', 'Language'], dtype='object')\n",
      "Title          object\n",
      "Genre          object\n",
      "Premiere       object\n",
      "Runtime         int64\n",
      "IMDB Score    float64\n",
      "Language       object\n",
      "dtype: object\n"
     ]
    }
   ],
   "source": [
    "print(df.columns) # get the columns\n",
    "print(df.dtypes) # get the columns types"
   ]
  },
  {
   "cell_type": "code",
   "execution_count": 27,
   "metadata": {},
   "outputs": [
    {
     "name": "stdout",
     "output_type": "stream",
     "text": [
      "0    Enter the Anime\n",
      "1        Dark Forces\n",
      "2            The App\n",
      "3     The Open House\n",
      "4        Kaali Khuhi\n",
      "Name: Title, dtype: object\n"
     ]
    }
   ],
   "source": [
    "title_df = df[\"Title\"]\n",
    "print(title_df.head())"
   ]
  },
  {
   "cell_type": "code",
   "execution_count": 28,
   "metadata": {},
   "outputs": [
    {
     "name": "stdout",
     "output_type": "stream",
     "text": [
      "Title          Enter the Anime\n",
      "Genre              Documentary\n",
      "Premiere              5-Aug-19\n",
      "Runtime                     58\n",
      "IMDB Score                 2.5\n",
      "Language      English/Japanese\n",
      "Name: 0, dtype: object\n"
     ]
    }
   ],
   "source": [
    "print(df.loc[0]) # locate the first row of information "
   ]
  },
  {
   "cell_type": "code",
   "execution_count": 29,
   "metadata": {},
   "outputs": [
    {
     "name": "stdout",
     "output_type": "stream",
     "text": [
      "Title         David Attenborough: A Life on Our Planet\n",
      "Genre                                      Documentary\n",
      "Premiere                                      4-Oct-20\n",
      "Runtime                                             83\n",
      "IMDB Score                                         9.0\n",
      "Language                                       English\n",
      "Name: 583, dtype: object\n"
     ]
    }
   ],
   "source": [
    "print(df.loc[df.shape[0]-1])"
   ]
  },
  {
   "cell_type": "code",
   "execution_count": 30,
   "metadata": {},
   "outputs": [
    {
     "name": "stdout",
     "output_type": "stream",
     "text": [
      "Genre\n",
      "Action              5.414286\n",
      "Action comedy       5.420000\n",
      "Action thriller     6.400000\n",
      "Action-adventure    7.300000\n",
      "Action-thriller     6.133333\n",
      "                      ...   \n",
      "War                 6.750000\n",
      "War drama           7.100000\n",
      "War-Comedy          6.000000\n",
      "Western             6.066667\n",
      "Zombie/Heist        5.900000\n",
      "Name: IMDB Score, Length: 115, dtype: float64\n"
     ]
    }
   ],
   "source": [
    "print(df.groupby(\"Genre\")[\"IMDB Score\"].mean()) # will groub the result in genre and calc the mean with teh IMDB"
   ]
  },
  {
   "cell_type": "code",
   "execution_count": 31,
   "metadata": {},
   "outputs": [
    {
     "data": {
      "text/plain": [
       "<Axes: xlabel='Genre'>"
      ]
     },
     "execution_count": 31,
     "metadata": {},
     "output_type": "execute_result"
    },
    {
     "data": {
      "image/png": "[encoded data removed]",
      "text/plain": [
       "<Figure size 640x480 with 1 Axes>"
      ]
     },
     "metadata": {},
     "output_type": "display_data"
    }
   ],
   "source": [
    "score = df.groupby(\"Genre\")[\"IMDB Score\"].mean()\n",
    "score.plot()"
   ]
  },
  {
   "cell_type": "markdown",
   "metadata": {},
   "source": [
    "# Activity\n",
    "- how many rows and columns\n",
    "- names of each columns?\n",
    "- Data types of each column?\n",
    "- The title and IMDB Score for the 1st, 100th and last record\n",
    "- For all of the movies in each language, what is the average IMDB score "
   ]
  },
  {
   "cell_type": "code",
   "execution_count": 32,
   "metadata": {},
   "outputs": [
    {
     "name": "stdout",
     "output_type": "stream",
     "text": [
      "(584, 6)\n",
      "Index(['Title', 'Genre', 'Premiere', 'Runtime', 'IMDB Score', 'Language'], dtype='object')\n",
      "Title          object\n",
      "Genre          object\n",
      "Premiere       object\n",
      "Runtime         int64\n",
      "IMDB Score    float64\n",
      "Language       object\n",
      "dtype: object\n",
      "\n",
      "Access record\n",
      "Title: Enter the Anime\n",
      "IMDB Score: 2.5\n",
      "Title: Game Over, Man!\n",
      "IMDB Score: 5.4\n",
      "Title: David Attenborough: A Life on Our Planet\n",
      "IMDB Score: 9.0\n",
      "\n",
      "Avg score in IMDB in language\n",
      "Language\n",
      "Bengali                       7.100000\n",
      "Dutch                         5.800000\n",
      "English                       6.380050\n",
      "English/Akan                  7.700000\n",
      "English/Arabic                7.300000\n",
      "English/Hindi                 7.300000\n",
      "English/Japanese              4.400000\n",
      "English/Korean                7.300000\n",
      "English/Mandarin              7.050000\n",
      "English/Russian               7.300000\n",
      "English/Spanish               6.220000\n",
      "English/Swedish               6.500000\n",
      "English/Taiwanese/Mandarin    6.500000\n",
      "English/Ukranian/Russian      8.400000\n",
      "Filipino                      5.100000\n",
      "French                        5.770000\n",
      "Georgian                      6.800000\n",
      "German                        5.640000\n",
      "Hindi                         5.981818\n",
      "Indonesian                    5.844444\n",
      "Italian                       5.542857\n",
      "Japanese                      6.400000\n",
      "Khmer/English/French          7.200000\n",
      "Korean                        5.916667\n",
      "Malay                         4.200000\n",
      "Marathi                       6.066667\n",
      "Norwegian                     5.100000\n",
      "Polish                        5.166667\n",
      "Portuguese                    6.216667\n",
      "Spanish                       6.303226\n",
      "Spanish/Basque                5.600000\n",
      "Spanish/Catalan               6.400000\n",
      "Spanish/English               7.300000\n",
      "Swedish                       5.500000\n",
      "Tamil                         7.200000\n",
      "Thai                          5.450000\n",
      "Thia/English                  6.700000\n",
      "Turkish                       5.660000\n",
      "Name: IMDB Score, dtype: float64\n"
     ]
    }
   ],
   "source": [
    "print(df.shape) # rows and columns\n",
    "print(df.columns)\n",
    "print(df.dtypes)\n",
    "\n",
    "print()\n",
    "print(\"Access record\")\n",
    "# 1st\n",
    "print(\"Title:\", df[\"Title\"].iloc[0])\n",
    "print(\"IMDB Score:\", df[\"IMDB Score\"].iloc[0])\n",
    "#100th\n",
    "print(\"Title:\", df[\"Title\"].iloc[99])\n",
    "print(\"IMDB Score:\", df[\"IMDB Score\"].iloc[99])\n",
    "# Last record\n",
    "print(\"Title:\", df[\"Title\"].iloc[-1])\n",
    "print(\"IMDB Score:\", df[\"IMDB Score\"].iloc[-1])\n",
    "\n",
    "#avg\n",
    "print()\n",
    "print(\"Avg score in IMDB in language\")\n",
    "score = df.groupby(\"Language\")[\"IMDB Score\"].mean()\n",
    "print(score)\n",
    "\n",
    "\n"
   ]
  },
  {
   "cell_type": "markdown",
   "metadata": {},
   "source": [
    "# Activity\n",
    "- how many rows\n",
    "- data types runtime?\n",
    "- print the longest,shortes,avg runtime\n",
    "\n",
    "# slice out the IMDB Score\n",
    "- how many rows?\n",
    "- Data type of IMDB Score\n",
    "- highest, lowest, and media IMDB socre"
   ]
  },
  {
   "cell_type": "code",
   "execution_count": 39,
   "metadata": {},
   "outputs": [
    {
     "name": "stdout",
     "output_type": "stream",
     "text": [
      "584\n",
      "None\n",
      "209\n",
      "4\n",
      "93.57705479452055\n",
      "int64\n"
     ]
    }
   ],
   "source": [
    "\n",
    "\n",
    "\n",
    "# get the rows\n",
    "print(print(df['Runtime'].shape[0]))\n",
    "\n",
    "# data type of runtime\n",
    "print(df['Runtime'].dtypes)\n",
    "\n",
    "longest_runtime = df['Runtime'].max()\n",
    "print(longest_runtime)\n",
    "shortest_runtime = df['Runtime'].min()\n",
    "print(shortest_runtime)\n",
    "avg_runtime = df['Runtime'].mean()\n",
    "print(avg_runtime)\n",
    "\n",
    "\n",
    "\n",
    "\n"
   ]
  },
  {
   "cell_type": "code",
   "execution_count": 43,
   "metadata": {},
   "outputs": [
    {
     "name": "stdout",
     "output_type": "stream",
     "text": [
      "584\n",
      "float64\n",
      "9.0\n",
      "2.5\n",
      "6.35\n"
     ]
    }
   ],
   "source": [
    "IMDB_Score = df[\"IMDB Score\"]\n",
    "# get the rows\n",
    "print(IMDB_Score.shape[0])\n",
    "# data type of runtime\n",
    "print(IMDB_Score.dtypes)\n",
    "\n",
    "highest = IMDB_Score.max()\n",
    "print(highest)\n",
    "lowest = IMDB_Score.min()\n",
    "print(lowest)\n",
    "median = IMDB_Score.median()\n",
    "print(median)\n"
   ]
  }
 ],
 "metadata": {
  "kernelspec": {
   "display_name": "Python 3.12.5 64-bit",
   "language": "python",
   "name": "python3"
  },
  "language_info": {
   "codemirror_mode": {
    "name": "ipython",
    "version": 3
   },
   "file_extension": ".py",
   "mimetype": "text/x-python",
   "name": "python",
   "nbconvert_exporter": "python",
   "pygments_lexer": "ipython3",
   "version": "3.12.5"
  },
  "orig_nbformat": 4,
  "vscode": {
   "interpreter": {
    "hash": "aee8b7b246df8f9039afb4144a1f6fd8d2ca17a180786b69acc140d282b71a49"
   }
  }
 },
 "nbformat": 4,
 "nbformat_minor": 2
}
